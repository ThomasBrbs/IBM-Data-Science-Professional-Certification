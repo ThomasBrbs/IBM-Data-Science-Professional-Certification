{
 "cells": [
  {
   "cell_type": "markdown",
   "id": "104765fa",
   "metadata": {},
   "source": [
    "# Tool for Data Science"
   ]
  },
  {
   "cell_type": "markdown",
   "id": "e1c5c8d5",
   "metadata": {},
   "source": [
    "## Introduction"
   ]
  },
  {
   "cell_type": "markdown",
   "id": "9e4c9ce4",
   "metadata": {},
   "source": [
    "#### Here is some data science languages:\n",
    "- Python\n",
    "- R\n",
    "- SQL\n",
    "- Julia\n",
    "- SAS\n",
    "- MATLAB\n"
   ]
  },
  {
   "cell_type": "markdown",
   "id": "4f86cddb",
   "metadata": {},
   "source": [
    "#### Data Science Libraries\n",
    "\n",
    "Here are some popular data science libraries used in Python:\n",
    "\n",
    "- **NumPy**: For numerical computing and array operations.\n",
    "- **Pandas**: For data manipulation and analysis.\n",
    "- **Matplotlib**: For data visualization.\n",
    "- **Seaborn**: For statistical data visualization.\n",
    "- **Scikit-learn**: For machine learning algorithms and tools.\n",
    "- **TensorFlow**: For deep learning and neural networks.\n",
    "- **PyTorch**: For deep learning and neural networks."
   ]
  },
  {
   "cell_type": "markdown",
   "id": "c74b2590",
   "metadata": {},
   "source": [
    "#### Data Science Tools\n",
    "\n",
    "| Tool         | Description                                       |\n",
    "|--------------|---------------------------------------------------|\n",
    "| Python       | General-purpose programming language               |\n",
    "| R            | Statistical programming language                   |\n",
    "| SQL          | Query language for managing databases              |\n",
    "| TensorFlow   | Machine learning framework                         |\n",
    "| PyTorch      | Deep learning framework                            |\n",
    "| Tableau      | Data visualization and business intelligence tool |\n",
    "| Jupyter      | Interactive coding and documentation environment   |\n"
   ]
  },
  {
   "cell_type": "markdown",
   "id": "b180ef23",
   "metadata": {},
   "source": [
    "#### Arithmetic Expression Examples\n",
    "\n",
    "Arithmetic expressions are mathematical expressions that involve numbers, operators, and sometimes variables. Here are some examples of arithmetic expressions:\n",
    "\n",
    "1. Addition: The sum of two numbers\n",
    "   - Example: `2 + 3 = 5`\n",
    "\n",
    "2. Subtraction: The difference between two numbers\n",
    "   - Example: `7 - 4 = 3`\n",
    "\n",
    "3. Multiplication: The product of two numbers\n",
    "   - Example: `5 * 6 = 30`\n",
    "\n",
    "4. Division: The quotient of dividing one number by another\n",
    "   - Example: `10 / 2 = 5`"
   ]
  },
  {
   "cell_type": "code",
   "execution_count": 4,
   "id": "98034d78",
   "metadata": {},
   "outputs": [
    {
     "name": "stdout",
     "output_type": "stream",
     "text": [
      "Multiplication Result: 6\n",
      "Addition Result: 5\n"
     ]
    }
   ],
   "source": [
    "# Multiply and Add Numbers\n",
    "a = 2\n",
    "b = 3\n",
    "c = a * b  # Multiplication\n",
    "d = a + b  # Addition\n",
    "\n",
    "print(\"Multiplication Result:\", c)\n",
    "print(\"Addition Result:\", d)\n"
   ]
  },
  {
   "cell_type": "code",
   "execution_count": 5,
   "id": "cf13cc4d",
   "metadata": {},
   "outputs": [
    {
     "name": "stdout",
     "output_type": "stream",
     "text": [
      "Minutes: 150\n",
      "Hours: 2.5\n"
     ]
    }
   ],
   "source": [
    "# Convert Minutes to Hours\n",
    "minutes = 150\n",
    "hours = minutes / 60\n",
    "\n",
    "print(\"Minutes:\", minutes)\n",
    "print(\"Hours:\", hours)\n"
   ]
  },
  {
   "cell_type": "markdown",
   "id": "6f92f26b",
   "metadata": {},
   "source": [
    "#### Objectives\n",
    "\n",
    "In this notebook, we aim to achieve the following objectives:\n",
    "\n",
    "1. Explore and analyze the dataset to gain insights.\n",
    "2. Preprocess the data by handling missing values and outliers.\n",
    "3. Perform feature engineering to create meaningful features.\n",
    "4. Apply machine learning algorithms to build predictive models.\n",
    "5. Evaluate the performance of the models using appropriate metrics.\n",
    "6. Fine-tune the models to improve their performance.\n",
    "7. Generate visualizations to communicate findings effectively.\n",
    "8. Document the analysis process and results in a clear and organized manner.\n",
    "9. Share the notebook and collaborate with others on the analysis."
   ]
  },
  {
   "cell_type": "markdown",
   "id": "b0a35eef",
   "metadata": {},
   "source": [
    "<div style=\"text-align: right\">\n",
    "\n",
    "##### This Notebook has been create by Barbosa Thomas (French Data Scientist student)\n",
    "</div>"
   ]
  }
 ],
 "metadata": {
  "kernelspec": {
   "display_name": "Python 3 (ipykernel)",
   "language": "python",
   "name": "python3"
  },
  "language_info": {
   "codemirror_mode": {
    "name": "ipython",
    "version": 3
   },
   "file_extension": ".py",
   "mimetype": "text/x-python",
   "name": "python",
   "nbconvert_exporter": "python",
   "pygments_lexer": "ipython3",
   "version": "3.9.13"
  }
 },
 "nbformat": 4,
 "nbformat_minor": 5
}
